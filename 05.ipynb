{
 "cells": [
  {
   "cell_type": "code",
   "execution_count": null,
   "id": "8ca87a14",
   "metadata": {},
   "outputs": [],
   "source": [
    "%load_ext autoreload\n",
    "%autoreload 2\n",
    "\n",
    "import matplotlib.pyplot as plt\n",
    "import cartopy.crs as ccrs\n",
    "from cartopy.mpl.gridliner import LONGITUDE_FORMATTER, LATITUDE_FORMATTER\n",
    "\n",
    "from pre_process import *\n",
    "\n",
    "import warnings\n",
    "warnings.filterwarnings(\"ignore\")"
   ]
  },
  {
   "cell_type": "code",
   "execution_count": null,
   "id": "3a4ff4a1",
   "metadata": {},
   "outputs": [],
   "source": [
    "sorvest_F = get_turbine_coords('/lustre/storeB/project/nwp/havvind/turbine_coordinates/windfarms_Sorvest_F.txt')"
   ]
  },
  {
   "cell_type": "code",
   "execution_count": null,
   "id": "bd27331b",
   "metadata": {},
   "outputs": [],
   "source": [
    "exp_05_avg, xgrid = open_experiment(turb=True, exp_number=5, num_of_days=31)\n",
    "ref_05_avg, xgrid = open_experiment(turb=False, exp_number=5, num_of_days=31)"
   ]
  }
 ],
 "metadata": {
  "language_info": {
   "name": "python"
  }
 },
 "nbformat": 4,
 "nbformat_minor": 5
}
