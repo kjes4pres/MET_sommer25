{
 "cells": [
  {
   "cell_type": "code",
   "execution_count": null,
   "id": "c174f2cf",
   "metadata": {},
   "outputs": [],
   "source": [
    "%load_ext autoreload\n",
    "%autoreload 2\n",
    "\n",
    "from Rossby_deformation.get_turbine_coords import get_turbine_coords\n",
    "from Rossby_deformation.funcs import *\n",
    "import matplotlib.pyplot as plt\n",
    "import matplotlib.style as mplstyle\n",
    "import cartopy.feature as cfeature\n",
    "\n",
    "mplstyle.use(['ggplot', 'fast'])"
   ]
  },
  {
   "cell_type": "code",
   "execution_count": 11,
   "id": "dadbd149",
   "metadata": {},
   "outputs": [],
   "source": [
    "# Making a grid\n",
    "path = '/lustre/storeB/project/nwp/havvind/hav/results/experiment/EXP-03/norkyst_avg_0001.nc'\n",
    "fid = Dataset(path)\n",
    "grid = SGrid(fid)\n",
    "del fid"
   ]
  },
  {
   "cell_type": "code",
   "execution_count": 10,
   "id": "7679dca6",
   "metadata": {},
   "outputs": [],
   "source": [
    "# Extracting paths to files containing the computed Rossby deformation radius\n",
    "# Note: I'm using the reference datasets and not the experiments\n",
    "# Rossby deformation radius computed from the experiment datasets are found in output_bdr/EXP\n",
    "\n",
    "filefolder = glob('/lustre/storeB/project/nwp/havvind/hav/analysis_kjsta/output_bdr/REF')\n",
    "\n",
    "# Only using June because we want the largest Rossby radius\n",
    "months = {\n",
    "\"06\": 30   # June\n",
    "}\n",
    "\n",
    "files=[]  # empty list to store paths in\n",
    "\n",
    "# building paths to contain each daily file and named thereafter\n",
    "for month, days in months.items():\n",
    "    for day in range(1, days + 1): \n",
    "        day_str = f\"{day:04}\"\n",
    "        file_path = f'/REF_{month}_norkyst_avg_{day_str}_brr.nc'\n",
    "        files.append(filefolder[0]+file_path)"
   ]
  },
  {
   "cell_type": "code",
   "execution_count": 8,
   "id": "c3103a47",
   "metadata": {},
   "outputs": [],
   "source": [
    "sorvest_F = get_turbine_coords('/lustre/storeB/project/nwp/havvind/turbine_coordinates/windfarms_Sorvest_F.txt')"
   ]
  },
  {
   "cell_type": "code",
   "execution_count": 9,
   "id": "9d3e978a",
   "metadata": {},
   "outputs": [],
   "source": [
    "# Square around wind park\n",
    "min_lon_SV = np.min(sorvest_F.coordinates[:,0].values)\n",
    "min_lat_SV = np.min(sorvest_F.coordinates[:,1].values)\n",
    "max_lon_SV = np.max(sorvest_F.coordinates[:,0].values)\n",
    "max_lat_SV = np.max(sorvest_F.coordinates[:,1].values)\n",
    "\n",
    "area_lon_SV = [min_lon_SV, max_lon_SV]\n",
    "area_lat_SV = [min_lat_SV, max_lat_SV]"
   ]
  },
  {
   "cell_type": "code",
   "execution_count": 12,
   "id": "8f8c1da3",
   "metadata": {},
   "outputs": [],
   "source": [
    "# Internal Rossby radius of June - from area of wind parks\n",
    "R1_june_SV = monthly_mean_area(files, grid, area_lon_SV, area_lat_SV)\n",
    "R1_june_SV = R1_june_SV.gamma_r"
   ]
  },
  {
   "cell_type": "code",
   "execution_count": 13,
   "id": "484c488d",
   "metadata": {},
   "outputs": [],
   "source": [
    "files = '/lustre/storeB/project/nwp/havvind/hav/results/reference/REF-02/norkyst_avg_0001.nc'"
   ]
  },
  {
   "cell_type": "code",
   "execution_count": 16,
   "id": "87d5ea29",
   "metadata": {},
   "outputs": [
    {
     "ename": "OSError",
     "evalue": "[Errno 75] Value too large for defined data type",
     "output_type": "error",
     "traceback": [
      "\u001b[0;31m---------------------------------------------------------------------------\u001b[0m",
      "\u001b[0;31mOSError\u001b[0m                                   Traceback (most recent call last)",
      "Cell \u001b[0;32mIn [16], line 1\u001b[0m\n\u001b[0;32m----> 1\u001b[0m ds \u001b[38;5;241m=\u001b[39m make_study_area(files, grid, area_lon_SV, area_lat_SV, R1_june_SV)\n",
      "File \u001b[0;32m~/sommer_25/MET_sommer25/Rossby_deformation/funcs.py:258\u001b[0m, in \u001b[0;36mmake_study_area\u001b[0;34m(files, grid, area_lon, area_lat, R1)\u001b[0m\n\u001b[1;32m    256\u001b[0m \u001b[38;5;28;01mdef\u001b[39;00m \u001b[38;5;21mmake_study_area\u001b[39m(files, grid, area_lon, area_lat, R1):\n\u001b[1;32m    257\u001b[0m     new_area_lon, new_area_lat \u001b[38;5;241m=\u001b[39m expand_box_around_farm(area_lon, area_lat, R1)\n\u001b[0;32m--> 258\u001b[0m     \u001b[38;5;28;01mreturn\u001b[39;00m \u001b[43mmake_region_ds\u001b[49m\u001b[43m(\u001b[49m\u001b[43mfiles\u001b[49m\u001b[43m,\u001b[49m\u001b[43m \u001b[49m\u001b[43mgrid\u001b[49m\u001b[43m,\u001b[49m\u001b[43m \u001b[49m\u001b[43mnew_area_lon\u001b[49m\u001b[43m,\u001b[49m\u001b[43m \u001b[49m\u001b[43mnew_area_lat\u001b[49m\u001b[43m)\u001b[49m\n",
      "File \u001b[0;32m~/sommer_25/MET_sommer25/Rossby_deformation/funcs.py:209\u001b[0m, in \u001b[0;36mmake_region_ds\u001b[0;34m(files, grid, area_lon, area_lat)\u001b[0m\n\u001b[1;32m    206\u001b[0m full_ds \u001b[38;5;241m=\u001b[39m xr\u001b[38;5;241m.\u001b[39mopen_mfdataset(files)\n\u001b[1;32m    208\u001b[0m \u001b[38;5;66;03m# Convert ocean_time to datetime\u001b[39;00m\n\u001b[0;32m--> 209\u001b[0m full_ds \u001b[38;5;241m=\u001b[39m \u001b[43mconvert_ocean_time\u001b[49m\u001b[43m(\u001b[49m\u001b[43mfull_ds\u001b[49m\u001b[43m)\u001b[49m\n\u001b[1;32m    212\u001b[0m lon \u001b[38;5;241m=\u001b[39m np\u001b[38;5;241m.\u001b[39masarray(grid\u001b[38;5;241m.\u001b[39mlon_rho)\n\u001b[1;32m    213\u001b[0m lat \u001b[38;5;241m=\u001b[39m np\u001b[38;5;241m.\u001b[39masarray(grid\u001b[38;5;241m.\u001b[39mlat_rho)\n",
      "File \u001b[0;32m~/sommer_25/MET_sommer25/Rossby_deformation/funcs.py:65\u001b[0m, in \u001b[0;36mconvert_ocean_time\u001b[0;34m(full_ds)\u001b[0m\n\u001b[1;32m     54\u001b[0m \u001b[38;5;124;03m\"\"\"\u001b[39;00m\n\u001b[1;32m     55\u001b[0m \u001b[38;5;124;03mConverts ocean_time from seconds since initialization\u001b[39;00m\n\u001b[1;32m     56\u001b[0m \u001b[38;5;124;03mto datetime values and assigns it back to the dataset.\u001b[39;00m\n\u001b[0;32m   (...)\u001b[0m\n\u001b[1;32m     62\u001b[0m \u001b[38;5;124;03m    full_ds:        xArray DataSet\u001b[39;00m\n\u001b[1;32m     63\u001b[0m \u001b[38;5;124;03m\"\"\"\u001b[39;00m\n\u001b[1;32m     64\u001b[0m ocean_time \u001b[38;5;241m=\u001b[39m full_ds\u001b[38;5;241m.\u001b[39mocean_time\u001b[38;5;241m.\u001b[39mvalues\n\u001b[0;32m---> 65\u001b[0m datetime_array \u001b[38;5;241m=\u001b[39m [datetime\u001b[38;5;241m.\u001b[39mfromtimestamp(ot) \u001b[38;5;28;01mfor\u001b[39;00m ot \u001b[38;5;129;01min\u001b[39;00m ocean_time]\n\u001b[1;32m     66\u001b[0m full_ds[\u001b[38;5;124m\"\u001b[39m\u001b[38;5;124mocean_time\u001b[39m\u001b[38;5;124m\"\u001b[39m] \u001b[38;5;241m=\u001b[39m datetime_array\n\u001b[1;32m     67\u001b[0m \u001b[38;5;28;01mreturn\u001b[39;00m full_ds\n",
      "File \u001b[0;32m~/sommer_25/MET_sommer25/Rossby_deformation/funcs.py:65\u001b[0m, in \u001b[0;36m<listcomp>\u001b[0;34m(.0)\u001b[0m\n\u001b[1;32m     54\u001b[0m \u001b[38;5;124;03m\"\"\"\u001b[39;00m\n\u001b[1;32m     55\u001b[0m \u001b[38;5;124;03mConverts ocean_time from seconds since initialization\u001b[39;00m\n\u001b[1;32m     56\u001b[0m \u001b[38;5;124;03mto datetime values and assigns it back to the dataset.\u001b[39;00m\n\u001b[0;32m   (...)\u001b[0m\n\u001b[1;32m     62\u001b[0m \u001b[38;5;124;03m    full_ds:        xArray DataSet\u001b[39;00m\n\u001b[1;32m     63\u001b[0m \u001b[38;5;124;03m\"\"\"\u001b[39;00m\n\u001b[1;32m     64\u001b[0m ocean_time \u001b[38;5;241m=\u001b[39m full_ds\u001b[38;5;241m.\u001b[39mocean_time\u001b[38;5;241m.\u001b[39mvalues\n\u001b[0;32m---> 65\u001b[0m datetime_array \u001b[38;5;241m=\u001b[39m [\u001b[43mdatetime\u001b[49m\u001b[38;5;241;43m.\u001b[39;49m\u001b[43mfromtimestamp\u001b[49m\u001b[43m(\u001b[49m\u001b[43mot\u001b[49m\u001b[43m)\u001b[49m \u001b[38;5;28;01mfor\u001b[39;00m ot \u001b[38;5;129;01min\u001b[39;00m ocean_time]\n\u001b[1;32m     66\u001b[0m full_ds[\u001b[38;5;124m\"\u001b[39m\u001b[38;5;124mocean_time\u001b[39m\u001b[38;5;124m\"\u001b[39m] \u001b[38;5;241m=\u001b[39m datetime_array\n\u001b[1;32m     67\u001b[0m \u001b[38;5;28;01mreturn\u001b[39;00m full_ds\n",
      "\u001b[0;31mOSError\u001b[0m: [Errno 75] Value too large for defined data type"
     ]
    }
   ],
   "source": [
    "ds = make_study_area(files, grid, area_lon_SV, area_lat_SV, R1_june_SV)"
   ]
  },
  {
   "cell_type": "code",
   "execution_count": null,
   "id": "43b8e153",
   "metadata": {},
   "outputs": [],
   "source": []
  }
 ],
 "metadata": {
  "kernelspec": {
   "display_name": "Python [conda env:production-10-2022] *",
   "language": "python",
   "name": "conda-env-production-10-2022-py"
  },
  "language_info": {
   "codemirror_mode": {
    "name": "ipython",
    "version": 3
   },
   "file_extension": ".py",
   "mimetype": "text/x-python",
   "name": "python",
   "nbconvert_exporter": "python",
   "pygments_lexer": "ipython3",
   "version": "3.9.13"
  }
 },
 "nbformat": 4,
 "nbformat_minor": 5
}
