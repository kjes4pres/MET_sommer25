{
 "cells": [
  {
   "cell_type": "code",
   "execution_count": null,
   "id": "8ca87a14",
   "metadata": {},
   "outputs": [],
   "source": [
    "%load_ext autoreload\n",
    "%autoreload 2\n",
    "\n",
    "from plotting_funcs import*\n",
    "from pre_process import *\n",
    "from get_rossby_radius import *\n",
    "import pandas as pd\n",
    "import seawater as sw\n",
    "from scipy.interpolate import interp1d\n",
    "\n",
    "import warnings\n",
    "warnings.filterwarnings(\"ignore\")"
   ]
  },
  {
   "cell_type": "code",
   "execution_count": null,
   "id": "3a4ff4a1",
   "metadata": {},
   "outputs": [],
   "source": [
    "sorvest_F = get_turbine_coords('/lustre/storeB/project/nwp/havvind/turbine_coordinates/windfarms_Sorvest_F.txt')"
   ]
  }
 ],
 "metadata": {
  "language_info": {
   "name": "python"
  }
 },
 "nbformat": 4,
 "nbformat_minor": 5
}
