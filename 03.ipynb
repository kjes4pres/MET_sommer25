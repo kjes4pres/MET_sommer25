{
 "cells": [
  {
   "cell_type": "code",
   "execution_count": null,
   "id": "796faae3",
   "metadata": {},
   "outputs": [],
   "source": [
    "%load_ext autoreload\n",
    "%autoreload 2\n",
    "\n",
    "import matplotlib.pyplot as plt\n",
    "import cartopy.crs as ccrs\n",
    "from cartopy.mpl.gridliner import LONGITUDE_FORMATTER, LATITUDE_FORMATTER\n",
    "\n",
    "from pre_process import *\n",
    "\n",
    "import warnings\n",
    "warnings.filterwarnings(\"ignore\")"
   ]
  },
  {
   "cell_type": "code",
   "execution_count": null,
   "id": "ae43ce97",
   "metadata": {},
   "outputs": [],
   "source": [
    "exp_03_avg, xgrid = open_experiment(turb=True, exp_number=3, num_of_days=31)\n",
    "ref_03_avg, xgrid = open_experiment(turb=False, exp_number=3, num_of_days=31)"
   ]
  },
  {
   "cell_type": "code",
   "execution_count": null,
   "id": "16c04fa1",
   "metadata": {},
   "outputs": [],
   "source": [
    "sorvest_F = get_turbine_coords('/lustre/storeB/project/nwp/havvind/turbine_coordinates/windfarms_Sorvest_F.txt')"
   ]
  }
 ],
 "metadata": {
  "language_info": {
   "name": "python"
  }
 },
 "nbformat": 4,
 "nbformat_minor": 5
}
