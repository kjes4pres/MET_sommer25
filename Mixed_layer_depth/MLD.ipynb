{
 "cells": [
  {
   "cell_type": "markdown",
   "id": "10156b1c",
   "metadata": {},
   "source": [
    "# Investigating changes in mixed layer depth at Sørvest-F  due to wind farms\n",
    "\n",
    "__Kjersti Stangeland - Summer 2025 - The Norwegian Meteorological Insitute__\n",
    "\n",
    "#### The project - Havvind\n",
    "\n",
    "A scenario with Norwegian wind farms at sea has been developed in a collaboration with NVE. The period 2/2-2022 til 30/6-2022 is simulated with MEPS, WaveWatch III, og Norkyst v3. There are to versions of the simulations:\n",
    "* A control run based of the current situation with no Norwegian wind farms at sea\n",
    "* An experiment with simulated wind farms.\n",
    "\n",
    "In the experiments, the only direct parametrization of the windmills are in MEPS. Therefore, effects on waves and ocean cirulation is indirectly seen through changed surface fluxes.\n",
    "\n",
    "__Details on the wind farms:__\n",
    "* Height of turbines is 165 m\n",
    "* Radius 143 m\n",
    "* 2.5 km distance between turbines\n",
    "* 6 (?) different farms along the Norwegian coast\n",
    "\n",
    "__Sørvest F__\n",
    "* A wind farm south west of Norway\n",
    "* 1x1500MW (430 km²) + 2x2100MW (600km² + 600 km²)\n",
    "* 258 turbines\n"
   ]
  },
  {
   "cell_type": "markdown",
   "id": "d99419e6",
   "metadata": {},
   "source": [
    "### Mixed layer depth\n",
    "\n",
    "The mixed layer of the upper ocean is the first meters of the water column where the potential density is fairly mixed. Below this layer, the density increases almost exponentially. The depth of the mixed layer depends on available energy for mixing, i.e. turbulence ad convection."
   ]
  },
  {
   "cell_type": "code",
   "execution_count": 28,
   "id": "13355ebd",
   "metadata": {},
   "outputs": [
    {
     "name": "stdout",
     "output_type": "stream",
     "text": [
      "The autoreload extension is already loaded. To reload it, use:\n",
      "  %reload_ext autoreload\n"
     ]
    }
   ],
   "source": [
    "%load_ext autoreload\n",
    "%autoreload 2\n",
    "\n",
    "import matplotlib.pyplot as plt\n",
    "import cartopy.crs as ccrs\n",
    "from cartopy.mpl.gridliner import LONGITUDE_FORMATTER, LATITUDE_FORMATTER\n",
    "import cmocean.cm as cmo\n",
    "import numpy as np\n",
    "import xarray as xr\n",
    "import cartopy \n",
    "from datetime import datetime, timedelta\n",
    "import pandas as pd\n",
    "from Rossby_deformation.get_turbine_coords import get_turbine_coords\n",
    "from netCDF4 import Dataset\n",
    "from roppy import SGrid\n",
    "import xroms\n",
    "from cartopy import config\n",
    "from glob import glob\n",
    "from Rossby_deformation.density import dens\n",
    "from scipy.interpolate import griddata\n",
    "from Mixed_layer_depth.mld import *"
   ]
  },
  {
   "cell_type": "markdown",
   "id": "5afc0599",
   "metadata": {},
   "source": [
    "Starting to play around with a test file"
   ]
  },
  {
   "cell_type": "code",
   "execution_count": 14,
   "id": "36f468a8",
   "metadata": {},
   "outputs": [],
   "source": [
    "def find_indices_of_point(grid, target_lon, target_lat):\n",
    "    '''\n",
    "    Finds the [y, x] indices of grid point closest to a given coordinate point (lon, lat).\n",
    "    The model grid is lon(y, x), lat(y, x).\n",
    "    '''\n",
    "    lon = grid.lon_rho\n",
    "    lat = grid.lat_rho\n",
    "\n",
    "    y, x = xroms.argsel2d(lon, lat, target_lon, target_lat)\n",
    "\n",
    "    return y, x"
   ]
  },
  {
   "cell_type": "code",
   "execution_count": 4,
   "id": "b4b068be",
   "metadata": {},
   "outputs": [],
   "source": [
    "path = '/lustre/storeB/project/nwp/havvind/hav/results/experiment/EXP-03/norkyst_avg_0001.nc'\n",
    "ds = xroms.open_netcdf(path)\n",
    "ds, xgrid = xroms.roms_dataset(ds, include_cell_volume=True)\n",
    "fid = Dataset(path)\n",
    "grid = SGrid(fid)"
   ]
  },
  {
   "cell_type": "code",
   "execution_count": 5,
   "id": "01736c85",
   "metadata": {},
   "outputs": [],
   "source": [
    "zlevs = np.arange(0,51,1)\n",
    "zlevs = np.insert(zlevs,len(zlevs),values=np.arange(52,102,2), axis=0)\n",
    "zlevs = np.insert(zlevs,len(zlevs),values=np.arange(105,305,5), axis=0)\n",
    "zlevs = np.insert(zlevs,len(zlevs),values=np.arange(520,1020,20), axis=0)\n",
    "zlevs = np.insert(zlevs,len(zlevs),values=np.arange(1050,3050,50), axis=0)\n",
    "\n",
    "zlevs = zlevs[np.where(zlevs<=np.max(grid.h))]\n",
    "zlevs = np.array(zlevs)*-1."
   ]
  },
  {
   "cell_type": "code",
   "execution_count": 6,
   "id": "1d25fd91",
   "metadata": {},
   "outputs": [],
   "source": [
    "# Depth of rho-points: z_r\n",
    "# Adding zero to end of array (surface)\n",
    "z_r = np.insert(grid.z_r, grid.z_r.shape[0], values = np.zeros_like(grid.h), axis=0)\n",
    "# Adding local water depth to beginning of array\n",
    "z_r = np.insert(z_r, 0, values = -1.*grid.h, axis=0)"
   ]
  },
  {
   "cell_type": "code",
   "execution_count": 8,
   "id": "88614438",
   "metadata": {},
   "outputs": [],
   "source": [
    "salt  = ds.variables['salt'][:]\n",
    "temp = ds.variables['temp'][:]\n",
    "mask = grid.mask_rho[:,:]"
   ]
  },
  {
   "cell_type": "code",
   "execution_count": null,
   "id": "36fd4c6e",
   "metadata": {},
   "outputs": [],
   "source": [
    "for y in range(0, 100):\n",
    "        for x in range(0, 200): \n",
    "            if not mask[y, x]:  # skipping land points\n",
    "               continue\n",
    "\n",
    "            # Filtering out local water depth on the zlevs\n",
    "            # Where zlevs is shallower than z_r -> true\n",
    "            tmpnz = zlevs[np.where(zlevs[:]>z_r[:,y,x].min())].squeeze()  # z-levels\n",
    "\n",
    "            if 1:\n",
    "               t = -1\n",
    "               # Adding first and last value to each end of the array to match length of z-levels (tmpnz)\n",
    "               tmpnS = salt[t,:,y,x]; tmpnS = np.append(tmpnS,tmpnS[-1]); tmpnS = np.insert(tmpnS,0,values=tmpnS[0],axis=0)\n",
    "               tmpnT = temp[t,:,y,x]; tmpnT = np.append(tmpnT,tmpnT[-1]); tmpnT = np.insert(tmpnT,0,values=tmpnT[0],axis=0)\n",
    "               # Interpolating to z-levels\n",
    "               tempZ = griddata(z_r[:,y,x], tmpnT[:], tmpnz)\n",
    "               saltZ = griddata(z_r[:,y,x], tmpnS[:], tmpnz)\n",
    "\n",
    "               potdens = dens(saltZ, tempZ, np.zeros_like(tempZ)).squeeze()\n",
    "\n",
    "               #mld = xroms.mld(potdens, xgrid, grid.h, mask)\n"
   ]
  },
  {
   "cell_type": "code",
   "execution_count": null,
   "id": "d263da0c",
   "metadata": {},
   "outputs": [
    {
     "data": {
      "text/plain": [
       "array([1023.86865917, 1023.86804648, 1023.86793067, 1023.86794298,\n",
       "       1023.86802283, 1023.86813967, 1023.86826656, 1023.86838552,\n",
       "       1023.86848794, 1023.86857315, 1023.86862524])"
      ]
     },
     "execution_count": 21,
     "metadata": {},
     "output_type": "execute_result"
    }
   ],
   "source": [
    "potdens"
   ]
  },
  {
   "cell_type": "code",
   "execution_count": null,
   "id": "488914a7",
   "metadata": {},
   "outputs": [],
   "source": [
    "def calc_mld(pot_dens):\n",
    "    '''\n",
    "    \n",
    "    '''\n",
    "    # the mixed layer depth is the depth where the potential density equals the surface - a threshold\n",
    "    thres = pot_dens[0] - 0.03  # [kgm^⁻3]\n",
    "\n",
    "    mld = xr.where(pot_dens > thres)\n",
    "\n",
    "    return mld"
   ]
  },
  {
   "cell_type": "code",
   "execution_count": null,
   "id": "1f03b6ad",
   "metadata": {},
   "outputs": [
    {
     "ename": "TypeError",
     "evalue": "where() missing 2 required positional arguments: 'x' and 'y'",
     "output_type": "error",
     "traceback": [
      "\u001b[0;31m---------------------------------------------------------------------------\u001b[0m",
      "\u001b[0;31mTypeError\u001b[0m                                 Traceback (most recent call last)",
      "Cell \u001b[0;32mIn [27], line 1\u001b[0m\n\u001b[0;32m----> 1\u001b[0m test_mld \u001b[38;5;241m=\u001b[39m calc_mld(potdens)\n",
      "Cell \u001b[0;32mIn [26], line 8\u001b[0m, in \u001b[0;36mcalc_mld\u001b[0;34m(pot_dens)\u001b[0m\n\u001b[1;32m      5\u001b[0m \u001b[38;5;66;03m# the mixed layer depth is the depth where the potential density equals the surface - a threshold\u001b[39;00m\n\u001b[1;32m      6\u001b[0m thres \u001b[38;5;241m=\u001b[39m pot_dens[\u001b[38;5;241m0\u001b[39m] \u001b[38;5;241m-\u001b[39m \u001b[38;5;241m0.03\u001b[39m  \u001b[38;5;66;03m# [kgm^⁻3]\u001b[39;00m\n\u001b[0;32m----> 8\u001b[0m mld \u001b[38;5;241m=\u001b[39m \u001b[43mxr\u001b[49m\u001b[38;5;241;43m.\u001b[39;49m\u001b[43mwhere\u001b[49m\u001b[43m(\u001b[49m\u001b[43mpot_dens\u001b[49m\u001b[43m \u001b[49m\u001b[38;5;241;43m>\u001b[39;49m\u001b[43m \u001b[49m\u001b[43mthres\u001b[49m\u001b[43m)\u001b[49m\n\u001b[1;32m     10\u001b[0m \u001b[38;5;28;01mreturn\u001b[39;00m mld\n",
      "\u001b[0;31mTypeError\u001b[0m: where() missing 2 required positional arguments: 'x' and 'y'"
     ]
    }
   ],
   "source": [
    "test_mld = calc_mld(potdens)"
   ]
  },
  {
   "cell_type": "markdown",
   "id": "8ff99b11",
   "metadata": {},
   "source": [
    "__To-do__:\n",
    "\n",
    "- find out how to calculate MLD - whats the best definition.\n",
    "- read: https://gmd.copernicus.org/articles/16/3849/2023/gmd-16-3849-2023.pdf\n",
    "\n",
    "\n",
    "'The MLD may be\n",
    "computed using a threshold change in density or temperature\n",
    "(BM04), a threshold in density gradient (Dong et al., 2008), a\n",
    "maximum density gradient (Large et al., 1997), a maximum in the curvature of the density profile (Lorbacher et al., 2006),\n",
    "or a minimum of the relative variance (Huang et al., 2018) or\n",
    "based on energetic principles (Reichl et al., 2022).'\n",
    "\n",
    "' ...the potential density threshold method has\n",
    "been recommended by Griffies et al. (2016) to compute the\n",
    "MLD in OMIP and CMIP models, with a threshold value\n",
    "of 0.03 kgm−3\n",
    ".'"
   ]
  },
  {
   "cell_type": "markdown",
   "id": "36932542",
   "metadata": {},
   "source": [
    "what about: \n",
    "\n",
    "- read the paper well and see if their method can be used\n",
    "- make a function which opens file, interpolates from s to z, calculates density, calculates mixed layer depth, writes pot dens and MLD to a netcdf file. run in a loop for all files both ref and exp and save as you did for rossby. \n",
    "- start with testing on daily files, and when method works, do it on all.\n",
    "- then import those files into this notebook and visualize it. \n",
    "- ex monthly means and differences\n",
    "- then you dont have to bother with the limiting study area yet, because you can just do it on the whole."
   ]
  },
  {
   "cell_type": "markdown",
   "id": "cf6501ee",
   "metadata": {},
   "source": [
    "oh! xroms has xroms.seawater.mld! try that"
   ]
  }
 ],
 "metadata": {
  "kernelspec": {
   "display_name": "Python [conda env:production-10-2022] *",
   "language": "python",
   "name": "conda-env-production-10-2022-py"
  },
  "language_info": {
   "codemirror_mode": {
    "name": "ipython",
    "version": 3
   },
   "file_extension": ".py",
   "mimetype": "text/x-python",
   "name": "python",
   "nbconvert_exporter": "python",
   "pygments_lexer": "ipython3",
   "version": "3.9.13"
  }
 },
 "nbformat": 4,
 "nbformat_minor": 5
}
