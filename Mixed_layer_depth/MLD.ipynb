{
 "cells": [
  {
   "cell_type": "markdown",
   "id": "10156b1c",
   "metadata": {},
   "source": [
    "# Investigating changes in mixed layer depth at Sørvest-F  due to wind farms\n",
    "\n",
    "__Kjersti Stangeland - Summer 2025 - The Norwegian Meteorological Insitute__\n",
    "\n",
    "#### The project - Havvind\n",
    "\n",
    "A scenario with Norwegian wind farms at sea has been developed in a collaboration with NVE. The period 2/2-2022 til 30/6-2022 is simulated with MEPS, WaveWatch III, og Norkyst v3. There are to versions of the simulations:\n",
    "* A control run based of the current situation with no Norwegian wind farms at sea\n",
    "* An experiment with simulated wind farms.\n",
    "\n",
    "In the experiments, the only direct parametrization of the windmills are in MEPS. Therefore, effects on waves and ocean cirulation is indirectly seen through changed surface fluxes.\n",
    "\n",
    "__Details on the wind farms:__\n",
    "* Height of turbines is 165 m\n",
    "* Radius 143 m\n",
    "* 2.5 km distance between turbines\n",
    "* 6 (?) different farms along the Norwegian coast\n",
    "\n",
    "__Sørvest F__\n",
    "* A wind farm south west of Norway\n",
    "* 1x1500MW (430 km²) + 2x2100MW (600km² + 600 km²)\n",
    "* 258 turbines\n"
   ]
  },
  {
   "cell_type": "markdown",
   "id": "d99419e6",
   "metadata": {},
   "source": [
    "### Mixed layer depth\n",
    "\n",
    "The mixed layer of the upper ocean is the first meters of the water column where the potential density is fairly mixed. Below this layer, the density increases almost exponentially. The depth of the mixed layer depends on available energy for mixing, i.e. turbulence ad convection."
   ]
  },
  {
   "cell_type": "code",
   "execution_count": 13,
   "id": "13355ebd",
   "metadata": {},
   "outputs": [
    {
     "name": "stdout",
     "output_type": "stream",
     "text": [
      "The autoreload extension is already loaded. To reload it, use:\n",
      "  %reload_ext autoreload\n"
     ]
    }
   ],
   "source": [
    "%load_ext autoreload\n",
    "%autoreload 2\n",
    "\n",
    "import matplotlib.pyplot as plt\n",
    "import cartopy.crs as ccrs\n",
    "from cartopy.mpl.gridliner import LONGITUDE_FORMATTER, LATITUDE_FORMATTER\n",
    "import cmocean.cm as cmo\n",
    "import numpy as np\n",
    "import xarray as xr\n",
    "import cartopy \n",
    "from datetime import datetime, timedelta\n",
    "import pandas as pd\n",
    "from Rossby_deformation.get_turbine_coords import get_turbine_coords\n",
    "from netCDF4 import Dataset\n",
    "from roppy import SGrid\n",
    "import xroms\n",
    "from cartopy import config\n",
    "from glob import glob\n",
    "from Rossby_deformation.density import dens"
   ]
  },
  {
   "cell_type": "markdown",
   "id": "5afc0599",
   "metadata": {},
   "source": [
    "Starting to play around with a test file"
   ]
  },
  {
   "cell_type": "code",
   "execution_count": 14,
   "id": "36f468a8",
   "metadata": {},
   "outputs": [],
   "source": [
    "def find_indices_of_point(grid, target_lon, target_lat):\n",
    "    '''\n",
    "    Finds the [y, x] indices of grid point closest to a given coordinate point (lon, lat).\n",
    "    The model grid is lon(y, x), lat(y, x).\n",
    "    '''\n",
    "    lon = grid.lon_rho\n",
    "    lat = grid.lat_rho\n",
    "\n",
    "    y, x = xroms.argsel2d(lon, lat, target_lon, target_lat)\n",
    "\n",
    "    return y, x"
   ]
  },
  {
   "cell_type": "code",
   "execution_count": 15,
   "id": "b4b068be",
   "metadata": {},
   "outputs": [],
   "source": [
    "path = '/lustre/storeB/project/nwp/havvind/hav/results/experiment/EXP-03/norkyst_avg_0001.nc'\n",
    "ds = xroms.open_netcdf(path)\n",
    "ds, xgrid = xroms.roms_dataset(ds, include_cell_volume=True)"
   ]
  },
  {
   "cell_type": "markdown",
   "id": "c2295031",
   "metadata": {},
   "source": [
    "Minimizing the dataset because I just want to test stuff, so need to save some memory."
   ]
  },
  {
   "cell_type": "code",
   "execution_count": 16,
   "id": "d6524f11",
   "metadata": {},
   "outputs": [],
   "source": [
    "#ds = ds0.isel(eta_rho=427, xi_rho=183)"
   ]
  },
  {
   "cell_type": "code",
   "execution_count": 17,
   "id": "0bbbf6f0",
   "metadata": {},
   "outputs": [],
   "source": [
    "pot_dens = dens(ds.salt, ds.temp).squeeze()"
   ]
  },
  {
   "cell_type": "markdown",
   "id": "8ff99b11",
   "metadata": {},
   "source": [
    "__To-do__:\n",
    "\n",
    "- find out how to calculate MLD - whats the best definition.\n",
    "- read: https://gmd.copernicus.org/articles/16/3849/2023/gmd-16-3849-2023.pdf\n",
    "\n",
    "\n",
    "'The MLD may be\n",
    "computed using a threshold change in density or temperature\n",
    "(BM04), a threshold in density gradient (Dong et al., 2008), a\n",
    "maximum density gradient (Large et al., 1997), a maximum in the curvature of the density profile (Lorbacher et al., 2006),\n",
    "or a minimum of the relative variance (Huang et al., 2018) or\n",
    "based on energetic principles (Reichl et al., 2022).'\n",
    "\n",
    "' ...the potential density threshold method has\n",
    "been recommended by Griffies et al. (2016) to compute the\n",
    "MLD in OMIP and CMIP models, with a threshold value\n",
    "of 0.03 kgm−3\n",
    ".'"
   ]
  },
  {
   "cell_type": "markdown",
   "id": "36932542",
   "metadata": {},
   "source": [
    "what about: \n",
    "\n",
    "- read the paper well and see if their method can be used\n",
    "- make a function which opens file, interpolates from s to z, calculates density, calculates mixed layer depth, writes pot dens and MLD to a netcdf file. run in a loop for all files both ref and exp and save as you did for rossby. \n",
    "- start with testing on daily files, and when method works, do it on all.\n",
    "- then import those files into this notebook and visualize it. \n",
    "- ex monthly means and differences\n",
    "- then you dont have to bother with the limiting study area yet, because you can just do it on the whole."
   ]
  },
  {
   "cell_type": "markdown",
   "id": "cf6501ee",
   "metadata": {},
   "source": [
    "oh! xroms has xroms.seawater.mld! try that"
   ]
  },
  {
   "cell_type": "code",
   "execution_count": 19,
   "id": "e6045645",
   "metadata": {},
   "outputs": [
    {
     "name": "stderr",
     "output_type": "stream",
     "text": [
      "/home/kjsta7412/.local/lib/python3.9/site-packages/xgcm/grid.py:989: FutureWarning: From version 0.8.0 the Axis computation methods will be removed, in favour of using the Grid computation methods instead. i.e. use `Grid.transform` instead of `Axis.transform`\n",
      "  warnings.warn(\n",
      "/home/kjsta7412/.local/lib/python3.9/site-packages/xgcm/grid.py:1026: UserWarning: Input`target_data` has no name, but we need a name for the transformed dimension. The name `TRANSFORMED_DIMENSION` will be used. To avoid this warning, call `.rename` on `target_data` before calling `transform`.\n",
      "  warnings.warn(\n"
     ]
    },
    {
     "ename": "ValueError",
     "evalue": "cannot add coordinates with new dimensions to a DataArray",
     "output_type": "error",
     "traceback": [
      "\u001b[0;31m---------------------------------------------------------------------------\u001b[0m",
      "\u001b[0;31mValueError\u001b[0m                                Traceback (most recent call last)",
      "Cell \u001b[0;32mIn [19], line 1\u001b[0m\n\u001b[0;32m----> 1\u001b[0m mld \u001b[38;5;241m=\u001b[39m xroms\u001b[38;5;241m.\u001b[39mmld(pot_dens, xgrid, ds\u001b[38;5;241m.\u001b[39mh, ds\u001b[38;5;241m.\u001b[39mmask_rho)\n",
      "File \u001b[0;32m~/.local/lib/python3.9/site-packages/xroms/roms_seawater.py:444\u001b[0m, in \u001b[0;36mmld\u001b[0;34m(sig0, xgrid, h, mask, z, thresh)\u001b[0m\n\u001b[1;32m    441\u001b[0m     z \u001b[38;5;241m=\u001b[39m sig0\u001b[38;5;241m.\u001b[39mz_rho\n\u001b[1;32m    443\u001b[0m \u001b[38;5;66;03m# the mixed layer depth is the isosurface of depth where the potential density equals the surface - a threshold\u001b[39;00m\n\u001b[0;32m--> 444\u001b[0m mld \u001b[38;5;241m=\u001b[39m \u001b[43mxroms\u001b[49m\u001b[38;5;241;43m.\u001b[39;49m\u001b[43misoslice\u001b[49m\u001b[43m(\u001b[49m\n\u001b[1;32m    445\u001b[0m \u001b[43m    \u001b[49m\u001b[43mz\u001b[49m\u001b[43m,\u001b[49m\n\u001b[1;32m    446\u001b[0m \u001b[43m    \u001b[49m\u001b[43mnp\u001b[49m\u001b[38;5;241;43m.\u001b[39;49m\u001b[43marray\u001b[49m\u001b[43m(\u001b[49m\u001b[43m[\u001b[49m\u001b[38;5;241;43m0.0\u001b[39;49m\u001b[43m]\u001b[49m\u001b[43m)\u001b[49m\u001b[43m,\u001b[49m\n\u001b[1;32m    447\u001b[0m \u001b[43m    \u001b[49m\u001b[43mxgrid\u001b[49m\u001b[43m,\u001b[49m\n\u001b[1;32m    448\u001b[0m \u001b[43m    \u001b[49m\u001b[43miso_array\u001b[49m\u001b[38;5;241;43m=\u001b[39;49m\u001b[43msig0\u001b[49m\u001b[43m \u001b[49m\u001b[38;5;241;43m-\u001b[39;49m\u001b[43m \u001b[49m\u001b[43msig0\u001b[49m\u001b[38;5;241;43m.\u001b[39;49m\u001b[43misel\u001b[49m\u001b[43m(\u001b[49m\u001b[43ms_rho\u001b[49m\u001b[38;5;241;43m=\u001b[39;49m\u001b[38;5;241;43m-\u001b[39;49m\u001b[38;5;241;43m1\u001b[39;49m\u001b[43m)\u001b[49m\u001b[43m \u001b[49m\u001b[38;5;241;43m-\u001b[39;49m\u001b[43m \u001b[49m\u001b[43mthresh\u001b[49m\u001b[43m,\u001b[49m\n\u001b[1;32m    449\u001b[0m \u001b[43m    \u001b[49m\u001b[43maxis\u001b[49m\u001b[38;5;241;43m=\u001b[39;49m\u001b[38;5;124;43m\"\u001b[39;49m\u001b[38;5;124;43mZ\u001b[39;49m\u001b[38;5;124;43m\"\u001b[39;49m\u001b[43m,\u001b[49m\n\u001b[1;32m    450\u001b[0m \u001b[43m\u001b[49m\u001b[43m)\u001b[49m\n\u001b[1;32m    451\u001b[0m \u001b[38;5;66;03m#     mld = xroms.xisoslice(sig0 - sig0.isel(s_rho=-1) - thresh, 0.0, z, skey)\u001b[39;00m\n\u001b[1;32m    452\u001b[0m \n\u001b[1;32m    453\u001b[0m \u001b[38;5;66;03m# Replace nan's that are not masked with the depth of the water column.\u001b[39;00m\n\u001b[1;32m    454\u001b[0m cond \u001b[38;5;241m=\u001b[39m (mld\u001b[38;5;241m.\u001b[39misnull()) \u001b[38;5;241m&\u001b[39m (mask \u001b[38;5;241m==\u001b[39m \u001b[38;5;241m1\u001b[39m)\n",
      "File \u001b[0;32m~/.local/lib/python3.9/site-packages/xroms/interp.py:267\u001b[0m, in \u001b[0;36misoslice\u001b[0;34m(var, iso_values, xgrid, iso_array, axis)\u001b[0m\n\u001b[1;32m    264\u001b[0m transformed \u001b[38;5;241m=\u001b[39m xgrid\u001b[38;5;241m.\u001b[39mtransform(var, axis, iso_values, target_data\u001b[38;5;241m=\u001b[39miso_array)\n\u001b[1;32m    266\u001b[0m \u001b[38;5;28;01mif\u001b[39;00m key \u001b[38;5;129;01mnot\u001b[39;00m \u001b[38;5;129;01min\u001b[39;00m transformed\u001b[38;5;241m.\u001b[39mcoords:\n\u001b[0;32m--> 267\u001b[0m     transformed \u001b[38;5;241m=\u001b[39m \u001b[43mtransformed\u001b[49m\u001b[38;5;241;43m.\u001b[39;49m\u001b[43massign_coords\u001b[49m\u001b[43m(\u001b[49m\u001b[43m{\u001b[49m\u001b[43mkey\u001b[49m\u001b[43m:\u001b[49m\u001b[43m \u001b[49m\u001b[43miso_array\u001b[49m\u001b[43m}\u001b[49m\u001b[43m)\u001b[49m\n\u001b[1;32m    269\u001b[0m \u001b[38;5;66;03m# bring along attributes for cf-xarray\u001b[39;00m\n\u001b[1;32m    270\u001b[0m transformed[key]\u001b[38;5;241m.\u001b[39mattrs[\u001b[38;5;124m\"\u001b[39m\u001b[38;5;124maxis\u001b[39m\u001b[38;5;124m\"\u001b[39m] \u001b[38;5;241m=\u001b[39m axis\n",
      "File \u001b[0;32m/modules/rhel8/conda/install/envs/production-10-2022/lib/python3.9/site-packages/xarray/core/common.py:592\u001b[0m, in \u001b[0;36mDataWithCoords.assign_coords\u001b[0;34m(self, coords, **coords_kwargs)\u001b[0m\n\u001b[1;32m    590\u001b[0m data \u001b[38;5;241m=\u001b[39m \u001b[38;5;28mself\u001b[39m\u001b[38;5;241m.\u001b[39mcopy(deep\u001b[38;5;241m=\u001b[39m\u001b[38;5;28;01mFalse\u001b[39;00m)\n\u001b[1;32m    591\u001b[0m results: \u001b[38;5;28mdict\u001b[39m[Hashable, Any] \u001b[38;5;241m=\u001b[39m \u001b[38;5;28mself\u001b[39m\u001b[38;5;241m.\u001b[39m_calc_assign_results(coords_combined)\n\u001b[0;32m--> 592\u001b[0m \u001b[43mdata\u001b[49m\u001b[38;5;241;43m.\u001b[39;49m\u001b[43mcoords\u001b[49m\u001b[38;5;241;43m.\u001b[39;49m\u001b[43mupdate\u001b[49m\u001b[43m(\u001b[49m\u001b[43mresults\u001b[49m\u001b[43m)\u001b[49m\n\u001b[1;32m    593\u001b[0m \u001b[38;5;28;01mreturn\u001b[39;00m data\n",
      "File \u001b[0;32m/modules/rhel8/conda/install/envs/production-10-2022/lib/python3.9/site-packages/xarray/core/coordinates.py:165\u001b[0m, in \u001b[0;36mCoordinates.update\u001b[0;34m(self, other)\u001b[0m\n\u001b[1;32m    161\u001b[0m \u001b[38;5;28mself\u001b[39m\u001b[38;5;241m.\u001b[39m_maybe_drop_multiindex_coords(\u001b[38;5;28mset\u001b[39m(other_vars))\n\u001b[1;32m    162\u001b[0m coords, indexes \u001b[38;5;241m=\u001b[39m merge_coords(\n\u001b[1;32m    163\u001b[0m     [\u001b[38;5;28mself\u001b[39m\u001b[38;5;241m.\u001b[39mvariables, other_vars], priority_arg\u001b[38;5;241m=\u001b[39m\u001b[38;5;241m1\u001b[39m, indexes\u001b[38;5;241m=\u001b[39m\u001b[38;5;28mself\u001b[39m\u001b[38;5;241m.\u001b[39mxindexes\n\u001b[1;32m    164\u001b[0m )\n\u001b[0;32m--> 165\u001b[0m \u001b[38;5;28;43mself\u001b[39;49m\u001b[38;5;241;43m.\u001b[39;49m\u001b[43m_update_coords\u001b[49m\u001b[43m(\u001b[49m\u001b[43mcoords\u001b[49m\u001b[43m,\u001b[49m\u001b[43m \u001b[49m\u001b[43mindexes\u001b[49m\u001b[43m)\u001b[49m\n",
      "File \u001b[0;32m/modules/rhel8/conda/install/envs/production-10-2022/lib/python3.9/site-packages/xarray/core/coordinates.py:378\u001b[0m, in \u001b[0;36mDataArrayCoordinates._update_coords\u001b[0;34m(self, coords, indexes)\u001b[0m\n\u001b[1;32m    376\u001b[0m dims \u001b[38;5;241m=\u001b[39m calculate_dimensions(coords_plus_data)\n\u001b[1;32m    377\u001b[0m \u001b[38;5;28;01mif\u001b[39;00m \u001b[38;5;129;01mnot\u001b[39;00m \u001b[38;5;28mset\u001b[39m(dims) \u001b[38;5;241m<\u001b[39m\u001b[38;5;241m=\u001b[39m \u001b[38;5;28mset\u001b[39m(\u001b[38;5;28mself\u001b[39m\u001b[38;5;241m.\u001b[39mdims):\n\u001b[0;32m--> 378\u001b[0m     \u001b[38;5;28;01mraise\u001b[39;00m \u001b[38;5;167;01mValueError\u001b[39;00m(\n\u001b[1;32m    379\u001b[0m         \u001b[38;5;124m\"\u001b[39m\u001b[38;5;124mcannot add coordinates with new dimensions to a DataArray\u001b[39m\u001b[38;5;124m\"\u001b[39m\n\u001b[1;32m    380\u001b[0m     )\n\u001b[1;32m    381\u001b[0m \u001b[38;5;28mself\u001b[39m\u001b[38;5;241m.\u001b[39m_data\u001b[38;5;241m.\u001b[39m_coords \u001b[38;5;241m=\u001b[39m coords\n\u001b[1;32m    383\u001b[0m \u001b[38;5;66;03m# TODO(shoyer): once ._indexes is always populated by a dict, modify\u001b[39;00m\n\u001b[1;32m    384\u001b[0m \u001b[38;5;66;03m# it to update inplace instead.\u001b[39;00m\n",
      "\u001b[0;31mValueError\u001b[0m: cannot add coordinates with new dimensions to a DataArray"
     ]
    }
   ],
   "source": [
    "mld = xroms.mld(pot_dens, xgrid, ds.h, ds.mask_rho)"
   ]
  },
  {
   "cell_type": "code",
   "execution_count": null,
   "id": "22703b53",
   "metadata": {},
   "outputs": [
    {
     "name": "stdout",
     "output_type": "stream",
     "text": [
      "\u001b[0;31mSignature:\u001b[0m \u001b[0mxroms\u001b[0m\u001b[0;34m.\u001b[0m\u001b[0mmld\u001b[0m\u001b[0;34m(\u001b[0m\u001b[0msig0\u001b[0m\u001b[0;34m,\u001b[0m \u001b[0mxgrid\u001b[0m\u001b[0;34m,\u001b[0m \u001b[0mh\u001b[0m\u001b[0;34m,\u001b[0m \u001b[0mmask\u001b[0m\u001b[0;34m,\u001b[0m \u001b[0mz\u001b[0m\u001b[0;34m=\u001b[0m\u001b[0;32mNone\u001b[0m\u001b[0;34m,\u001b[0m \u001b[0mthresh\u001b[0m\u001b[0;34m=\u001b[0m\u001b[0;36m0.03\u001b[0m\u001b[0;34m)\u001b[0m\u001b[0;34m\u001b[0m\u001b[0;34m\u001b[0m\u001b[0m\n",
      "\u001b[0;31mDocstring:\u001b[0m\n",
      "Calculate the mixed layer depth [m], return positive and as depth if no value calculated.\n",
      "\n",
      "Parameters\n",
      "----------\n",
      "sig0: DataArray\n",
      "    Potential density [kg/m^3]\n",
      "xgrid\n",
      "    xgcm grid\n",
      "h: DataArray, ndarray\n",
      "    Depths [m].\n",
      "mask: DataArray, ndarray\n",
      "    mask to match sig0\n",
      "z: DataArray, ndarray, optional\n",
      "    The vertical depths associated with sig0. Should be on 'rho'\n",
      "    grid horizontally and vertically. Use z coords associated with DataArray sig0\n",
      "    if not input.\n",
      "thresh: float, optional\n",
      "    For detection of mixed layer [kg/m^3]\n",
      "\n",
      "Returns\n",
      "-------\n",
      "DataArray of mixed layer depth on rho horizontal grid.\n",
      "Output is `[T,Y,X]`.\n",
      "\n",
      "Notes\n",
      "-----\n",
      "Mixed layer depth is based on the fixed Potential Density (PD) threshold.\n",
      "\n",
      "Converted to xroms by K. Thyng Aug 2020 from:\n",
      "\n",
      "Update history:\n",
      "v1.0 DL 2020Jun07\n",
      "\n",
      "References:\n",
      "ncl mixed_layer_depth function at https://github.com/NCAR/ncl/blob/ed6016bf579f8c8e8f77341503daef3c532f1069/ni/src/lib/nfpfort/ocean.f\n",
      "de Boyer Montégut, C., Madec, G., Fischer, A. S., Lazar, A., & Iudicone, D. (2004). Mixed layer depth over the global ocean: An examination of profile data and a profile‐based climatology. Journal of  Geophysical Research: Oceans, 109(C12).\n",
      "\n",
      "Useful resources:\n",
      "\n",
      "* Climate Data Toolbox documentation: https://www.chadagreene.com/CDT/mld_documentation.html\n",
      "* MLD calculation from MDTF: https://github.com/NOAA-GFDL/MDTF-diagnostics/blob/437d30590c45e8b7dd0cd01a3dc67066a2137115/diagnostics/mixed_layer_depth/mixed_layer_depth.py#L147\n",
      "\n",
      "\n",
      "Examples\n",
      "--------\n",
      ">>> xroms.mld(sig0, h, mask)\n",
      "\u001b[0;31mFile:\u001b[0m      ~/.local/lib/python3.9/site-packages/xroms/roms_seawater.py\n",
      "\u001b[0;31mType:\u001b[0m      function\n"
     ]
    }
   ],
   "source": [
    "mld"
   ]
  },
  {
   "cell_type": "code",
   "execution_count": null,
   "id": "e5428a22",
   "metadata": {},
   "outputs": [],
   "source": []
  }
 ],
 "metadata": {
  "kernelspec": {
   "display_name": "Python [conda env:production-10-2022] *",
   "language": "python",
   "name": "conda-env-production-10-2022-py"
  },
  "language_info": {
   "codemirror_mode": {
    "name": "ipython",
    "version": 3
   },
   "file_extension": ".py",
   "mimetype": "text/x-python",
   "name": "python",
   "nbconvert_exporter": "python",
   "pygments_lexer": "ipython3",
   "version": "3.9.13"
  }
 },
 "nbformat": 4,
 "nbformat_minor": 5
}
