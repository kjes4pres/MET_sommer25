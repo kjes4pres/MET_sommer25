{
 "cells": [
  {
   "cell_type": "markdown",
   "metadata": {},
   "source": [
    "# Upper ocean effects of windmill farms at sea - Sørvest F \n",
    "### Kjersti Stangeland - Summer 2025 - The Norwegian Meteorological Insitute"
   ]
  },
  {
   "cell_type": "markdown",
   "metadata": {},
   "source": [
    "#### The project\n",
    "\n",
    "A scenario with Norwegian wind farms at sea has been developed in a collaboration with NVE. The period 2/2-2022 til 30/6-2022 is simulated with MEPS, WaveWatch III, og Norkyst v3. There are to versions of the simulations:\n",
    "* A control run based of the current situation with no Norwegian wind farms at sea\n",
    "* An experiment with simulated wind farms.\n",
    "\n",
    "In the experiments, the only direct parametrization of the windmills are in MEPS. Therefore, effects on waves and ocean cirulation is indirectly seen through changed surface fluxes.\n",
    "\n",
    "__Details on the wind farms:__\n",
    "* Height of turbines is 165 m\n",
    "* Radius 143 m\n",
    "* 2.5 km distance between turbines\n",
    "* 6 (?) different farms along the Norwegian coast\n",
    "\n",
    "__Sørvest F__\n",
    "* A wind farm south west of Norway\n",
    "* 3 x ? turbines"
   ]
  },
  {
   "cell_type": "markdown",
   "id": "6f917f50",
   "metadata": {},
   "source": [
    "### Calculation of mean internal Rossby radius\n",
    "\n",
    "To investigate the impact of wind farms at sea it is useful to make the study area smaller, i.e. not use the whole model domain. The Rossby radius or deformation radius allows us to delimit the area safely while making sure that the relevant dynamics are still within the domain. By taking 1-2 deformation radii as our domain of investigation around the wind farm, we're making sure that the internal dynamics are dominated by internal baroclinic instabilities. As the radius is telling about the length of deformation of a wave, that is a length scaale where the rotation of Earth affects the currents and geostrophy dominates.\n",
    "\n",
    "Sperrevik et al. (2017) calculated the internal Rossby radii using the following method.\n",
    "\n",
    "$$R_1 = \\frac{c_1}{\\mid f \\mid}$$\n",
    "where $f$ is the local Coriolis parameter and $c_1$ the phase speed of a first mode baroclinic gravity wave. The phase speed can be solved as an eigenvalue problem, but we will deploy the method of Chelton et al. (1998) and use the WKB-approximation.\n",
    "$$R_1 \\approx R_1^{WKB} = \\frac{1}{\\mid f \\mid \\pi}\\int_{-H}^{0}N(z) dz$$\n",
    "\n",
    "Here, $H$ is the local water depth and $N$ the buoyancy frequency. Sperrevik et al. (2017) calculated the radius for an area in Northern Norway, Lofoten, as shown in the figure below."
   ]
  },
  {
   "cell_type": "markdown",
   "id": "b0bd0af1",
   "metadata": {},
   "source": [
    "<p align=\"center\">\n",
    "  <img src=\"Sperrevik_etal_2017_fig5.png\" alt=\"Sperrevik et al. (2017)\">\n",
    "</p>"
   ]
  },
  {
   "cell_type": "markdown",
   "id": "3c5575bc",
   "metadata": {},
   "source": [
    "Here we have the internal deformation radius for the spring months of 1984. The radii has its minimum after the winter and increases towards the summer due to a stronger stratification developing. I will use this figure as a reference to see if the values I compute are reasonable."
   ]
  },
  {
   "cell_type": "code",
   "execution_count": 1,
   "metadata": {},
   "outputs": [],
   "source": [
    "%load_ext autoreload\n",
    "%autoreload 2\n",
    "\n",
    "import warnings\n",
    "warnings.filterwarnings(\"ignore\")"
   ]
  }
 ],
 "metadata": {
  "kernelspec": {
   "display_name": "Python [conda env:production-10-2022] *",
   "language": "python",
   "name": "conda-env-production-10-2022-py"
  },
  "language_info": {
   "codemirror_mode": {
    "name": "ipython",
    "version": 3
   },
   "file_extension": ".py",
   "mimetype": "text/x-python",
   "name": "python",
   "nbconvert_exporter": "python",
   "pygments_lexer": "ipython3",
   "version": "3.9.13"
  }
 },
 "nbformat": 4,
 "nbformat_minor": 5
}
