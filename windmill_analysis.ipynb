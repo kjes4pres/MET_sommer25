{
 "cells": [
  {
   "cell_type": "markdown",
   "metadata": {},
   "source": [
    "# Upper ocean effects of windmill farms at sea - Sørvest F \n",
    "### Kjersti Stangeland - Summer 2025 - The Norwegian Meteorological Insitute"
   ]
  },
  {
   "cell_type": "markdown",
   "metadata": {},
   "source": [
    "#### The project\n",
    "\n",
    "A scenario with Norwegian wind farms at sea has been developed in a collaboration with NVE. The period 2/2-2022 til 30/6-2022 is simulated with MEPS, WaveWatch III, og Norkyst v3. There are to versions of the simulations:\n",
    "* A control run based of the current situation with no Norwegian wind farms at sea\n",
    "* An experiment with simulated wind farms.\n",
    "\n",
    "In the experiments, the only direct parametrization of the windmills are in MEPS. Therefore, effects on waves and ocean cirulation is indirectly seen through changed surface fluxes.\n",
    "\n",
    "__Details on the wind farms:__\n",
    "* Height of turbines is 165 m\n",
    "* Radius 143 m\n",
    "* 2.5 km distance between turbines\n",
    "* 6 (?) different farms along the Norwegian coast\n",
    "\n",
    "__Sørvest F__\n",
    "* A wind farm south west of Norway\n",
    "* 3 x ? turbines"
   ]
  },
  {
   "cell_type": "markdown",
   "id": "6f917f50",
   "metadata": {},
   "source": [
    "### Calculation of mean internal Rossby radius\n",
    "\n",
    "To investigate the impact of wind farms at sea it is useful to make the study area smaller, i.e. not use the whole model domain. The Rossby radius or deformation radius allows us to delimit the area safely while making sure that the relevant dynamics are still within the domain. By taking 1-2 deformation radii as our domain of investigation around the wind farm, we're making sure that the internal dynamics are dominated by internal baroclinic instabilities. As the radius is telling about the length of deformation of a wave, that is a length scaale where the rotation of Earth affects the currents and geostrophy dominates.\n",
    "\n",
    "Sperrevik et al. (2017) calculated the internal Rossby radii using the following method.\n",
    "\n",
    "$$R_1 = \\frac{c_1}{\\mid f \\mid}$$\n",
    "where $f$ is the local Coriolis parameter and $c_1$ the phase speed of a first mode baroclinic gravity wave. The phase speed can be solved as an eigenvalue problem, but we will deploy the method of Chelton et al. (1998) and use the WKB-approximation.\n",
    "$$R_1 \\approx R_1^{WKB} = \\frac{1}{\\mid f \\mid \\pi}\\int_{-H}^{0}N(z) dz$$\n",
    "\n",
    "Here, $H$ is the local water depth and $N$ the buoyancy frequency. Sperrevik et al. (2017) calculated the radius for an area in Northern Norway, Lofoten, as shown in the figure below."
   ]
  },
  {
   "cell_type": "markdown",
   "id": "b0bd0af1",
   "metadata": {},
   "source": [
    "<p align=\"center\">\n",
    "  <img src=\"Sperrevik_etal_2017_fig5.png\" alt=\"Sperrevik et al. (2017)\">\n",
    "</p>"
   ]
  },
  {
   "cell_type": "markdown",
   "id": "3c5575bc",
   "metadata": {},
   "source": [
    "Here we have the internal deformation radius for the spring months of 1984. The radii has its minimum after the winter and increases towards the summer due to a stronger stratification developing. I will use this figure as a reference to see if the values I compute are reasonable."
   ]
  },
  {
   "cell_type": "code",
   "execution_count": 1,
   "metadata": {},
   "outputs": [],
   "source": [
    "%load_ext autoreload\n",
    "%autoreload 2\n",
    "\n",
    "from plotting_funcs import*\n",
    "from pre_process import *\n",
    "from get_rossby_radius import *\n",
    "import pandas as pd\n",
    "\n",
    "import warnings\n",
    "warnings.filterwarnings(\"ignore\")"
   ]
  },
  {
   "cell_type": "code",
   "execution_count": 3,
   "id": "be66cb5c",
   "metadata": {},
   "outputs": [],
   "source": [
    "# Opening full dataset for each reference experiment\n",
    "# this is to get the z_w grid variable needed\n",
    "\n",
    "ref02, grid02 = open_experiment(turb=False, exp_number='02', num_of_days=27)\n",
    "ref03, grid03 = open_experiment(turb=False, exp_number='03', num_of_days=31)\n",
    "ref04, grid04 = open_experiment(turb=False, exp_number='04', num_of_days=30)\n",
    "ref05, grid05 = open_experiment(turb=False, exp_number='05', num_of_days=31)\n",
    "ref06, grid06 = open_experiment(turb=False, exp_number='06', num_of_days=30)"
   ]
  },
  {
   "cell_type": "code",
   "execution_count": null,
   "id": "87d8ea3b",
   "metadata": {},
   "outputs": [],
   "source": [
    "\"\"\" # Relevant variables for calculating deformation radius\n",
    "variables = ['rho', 'f']\n",
    "\n",
    "# Opening subsets of the datasets for each reference experiment\n",
    "# While also taking the monthly mean\n",
    "ref02 = open_experiment_for_deformation_radius(turb=False, exp_number='02', num_of_days=27, variables=variables).mean(dim='ocean_time')\n",
    "ref03 = open_experiment_for_deformation_radius(turb=False, exp_number='03', num_of_days=31, variables=variables).mean(dim='ocean_time')\n",
    "ref04 = open_experiment_for_deformation_radius(turb=False, exp_number='04', num_of_days=30, variables=variables).mean(dim='ocean_time')\n",
    "ref05 = open_experiment_for_deformation_radius(turb=False, exp_number='05', num_of_days=31, variables=variables).mean(dim='ocean_time')\n",
    "ref06 = open_experiment_for_deformation_radius(turb=False, exp_number='06', num_of_days=30, variables=variables).mean(dim='ocean_time') \"\"\""
   ]
  },
  {
   "cell_type": "code",
   "execution_count": null,
   "id": "cbd19031",
   "metadata": {},
   "outputs": [],
   "source": [
    "# Adding time as a coordinate\n",
    "#ref02 = ref02.assign_coords(ocean_time=pd.to_datetime('2022-02'))\n",
    "\"\"\" ref03 = ref03.assign_coords(ocean_time=pd.to_datetime('2022-03'))\n",
    "ref04 = ref04.assign_coords(ocean_time=pd.to_datetime('2022-04'))\n",
    "ref05 = ref05.assign_coords(ocean_time=pd.to_datetime('2022-05'))\n",
    "ref06 = ref06.assign_coords(ocean_time=pd.to_datetime('2022-06')) \"\"\""
   ]
  },
  {
   "cell_type": "code",
   "execution_count": 4,
   "metadata": {},
   "outputs": [],
   "source": [
    "# Reading in the turbine coordinates\n",
    "sorvest_F = get_turbine_coords('/lustre/storeB/project/nwp/havvind/turbine_coordinates/windfarms_Sorvest_F.txt')"
   ]
  },
  {
   "cell_type": "code",
   "execution_count": 5,
   "metadata": {},
   "outputs": [],
   "source": [
    "# Find coordinates of midpoint of Sørvest F\n",
    "target_lon = 5.0\n",
    "target_lat = 56.8\n",
    "\n",
    "i_loc, j_loc = get_windpark_midpoint_indices(ref02, target_lon, target_lat)"
   ]
  },
  {
   "cell_type": "markdown",
   "id": "5beb1ce0",
   "metadata": {},
   "source": [
    "Calculating the Rossby deformation radius per month"
   ]
  },
  {
   "cell_type": "code",
   "execution_count": 6,
   "metadata": {},
   "outputs": [],
   "source": [
    "R_1_02 = rossby_radius(ref02.f, ref02.rho, ref02.z_w, grid02)\n",
    "R_1_02 = R_1_02.assign_attrs({'description': 'Rossby radius from Feb 2022 reference experiment', 'long_name': 'Rossby radius of deformation', 'units': 'm'})\n",
    "R_1_02_time_mean = R_1_02.mean(dim='ocean_time')"
   ]
  },
  {
   "cell_type": "code",
   "execution_count": 7,
   "id": "f9e7cc43",
   "metadata": {},
   "outputs": [],
   "source": [
    "R_1_03 = rossby_radius(ref03.f, ref03.rho, ref03.z_w, grid03)\n",
    "R_1_03 = R_1_03.assign_attrs({'description': 'Rossby radius from Mar 2022 reference experiment', 'long_name': 'Rossby radius of deformation', 'units': 'm'})\n",
    "R_1_03_time_mean = R_1_03.mean(dim='ocean_time')"
   ]
  },
  {
   "cell_type": "code",
   "execution_count": 8,
   "id": "7b114587",
   "metadata": {},
   "outputs": [],
   "source": [
    "R_1_04 = rossby_radius(ref04.f, ref04.rho, ref04.z_w, grid04)\n",
    "R_1_04 = R_1_04.assign_attrs({'description': 'Rossby radius from Apr 2022 reference experiment', 'long_name': 'Rossby radius of deformation', 'units': 'm'})\n",
    "R_1_04_time_mean = R_1_04.mean(dim='ocean_time')"
   ]
  },
  {
   "cell_type": "code",
   "execution_count": 9,
   "id": "8b11b51f",
   "metadata": {},
   "outputs": [],
   "source": [
    "R_1_05 = rossby_radius(ref05.f, ref05.rho, ref05.z_w, grid05)\n",
    "R_1_05 = R_1_05.assign_attrs({'description': 'Rossby radius from May 2022 reference experiment', 'long_name': 'Rossby radius of deformation', 'units': 'm'})\n",
    "R_1_05_time_mean = R_1_05.mean(dim='ocean_time')"
   ]
  },
  {
   "cell_type": "code",
   "execution_count": 10,
   "id": "04e2f18e",
   "metadata": {},
   "outputs": [],
   "source": [
    "R_1_06 = rossby_radius(ref06.f, ref06.rho, ref06.z_w, grid06)\n",
    "R_1_06 = R_1_06.assign_attrs({'description': 'Rossby radius from Jun 2022 reference experiment', 'long_name': 'Rossby radius of deformation', 'units': 'm'})\n",
    "R_1_06_time_mean = R_1_06.mean(dim='ocean_time')"
   ]
  },
  {
   "cell_type": "code",
   "execution_count": 1,
   "id": "9b4ef245",
   "metadata": {},
   "outputs": [
    {
     "ename": "NameError",
     "evalue": "name 'R_1_02_time_mean' is not defined",
     "output_type": "error",
     "traceback": [
      "\u001b[0;31m---------------------------------------------------------------------------\u001b[0m",
      "\u001b[0;31mNameError\u001b[0m                                 Traceback (most recent call last)",
      "Cell \u001b[0;32mIn [1], line 1\u001b[0m\n\u001b[0;32m----> 1\u001b[0m R_time_means \u001b[38;5;241m=\u001b[39m [R_1_02_time_mean, R_1_03_time_mean, R_1_04_time_mean, R_1_05_time_mean, R_1_06_time_mean]\n",
      "\u001b[0;31mNameError\u001b[0m: name 'R_1_02_time_mean' is not defined"
     ]
    }
   ],
   "source": [
    "R_time_means = [R_1_02_time_mean, R_1_03_time_mean, R_1_04_time_mean, R_1_05_time_mean, R_1_06_time_mean]"
   ]
  },
  {
   "cell_type": "code",
   "execution_count": null,
   "id": "a4a4b7da",
   "metadata": {},
   "outputs": [
    {
     "ename": "",
     "evalue": "",
     "output_type": "error",
     "traceback": [
      "\u001b[1;31mThe Kernel crashed while executing code in the current cell or a previous cell. \n",
      "\u001b[1;31mPlease review the code in the cell(s) to identify a possible cause of the failure. \n",
      "\u001b[1;31mClick <a href='https://aka.ms/vscodeJupyterKernelCrash'>here</a> for more info. \n",
      "\u001b[1;31mView Jupyter <a href='command:jupyter.viewOutput'>log</a> for further details."
     ]
    },
    {
     "ename": "",
     "evalue": "",
     "output_type": "error",
     "traceback": [
      "\u001b[1;31mCanceled future for execute_request message before replies were done"
     ]
    },
    {
     "ename": "",
     "evalue": "",
     "output_type": "error",
     "traceback": [
      "\u001b[1;31mCanceled future for execute_request message before replies were done. \n",
      "\u001b[1;31mView Jupyter <a href='command:jupyter.viewOutput'>log</a> for further details."
     ]
    }
   ],
   "source": [
    "fig, ax = plt.subplots(5, subplot_kw={'projection': ccrs.NorthPolarStereo()})\n",
    "cmap = 'cmo.deep' \n",
    "\n",
    "for axs in ax.flatten():\n",
    "    axs.set_extent([4, 6, 56, 57.5], crs=ccrs.PlateCarree())\n",
    "\n",
    "    # Plot sorvest_F locations\n",
    "    for i in range(len(sorvest_F.coordinates)):\n",
    "        axs.plot(sorvest_F.coordinates[i][0], sorvest_F.coordinates[i][1], transform=ccrs.PlateCarree(), color='black', marker='*', markersize=3) \n",
    "\n",
    "    # Add gridlines\n",
    "    gl = axs.gridlines(crs=ccrs.PlateCarree(), draw_labels=True, linewidth=1, color='lightgray', alpha=0.5, linestyle='--')\n",
    "    gl.top_labels = False  # Disable top labels\n",
    "    gl.right_labels = False  # Disable right labels\n",
    "    gl.xformatter = LONGITUDE_FORMATTER\n",
    "    gl.yformatter = LATITUDE_FORMATTER\n",
    "\n",
    "for i, R in enumerate(R_time_means):\n",
    "    R.plot(ax=ax[i], x='lon_rho', y='lat_rho', transform=ccrs.PlateCarree(), cmap=cmap)\n"
   ]
  },
  {
   "cell_type": "code",
   "execution_count": null,
   "id": "d5a2c4ef",
   "metadata": {},
   "outputs": [],
   "source": [
    "'''\n",
    "R1_sorvest_F = [R_1_02_time_mean.isel(eta_rho=i_loc, xi_rho=j_loc).values, \n",
    "                R_1_03_time_mean.isel(eta_rho=i_loc, xi_rho=j_loc).values,\n",
    "                R_1_04_time_mean.isel(eta_rho=i_loc, xi_rho=j_loc).values,\n",
    "                R_1_05_time_mean.isel(eta_rho=i_loc, xi_rho=j_loc).values,\n",
    "                R_1_06_time_mean.isel(eta_rho=i_loc, xi_rho=j_loc).values]\n",
    "'''"
   ]
  },
  {
   "cell_type": "code",
   "execution_count": null,
   "id": "b0b5f360",
   "metadata": {},
   "outputs": [],
   "source": [
    "\"\"\" fig, ax = plt.subplots(figsize=(10, 6))\n",
    "ax.plot(R1_sorvest_F, marker='o', linestyle='-', color='b', label='Sørvest F')\n",
    "ax.set_title('Rossby Deformation Radius at Sørvest F')\n",
    "ax.set_xlabel('Month')\n",
    "ax.set_ylabel('Rossby Deformation Radius (m)')\n",
    "ax.set_xticks(range(len(R1_sorvest_F)))\n",
    "ax.set_xticklabels(['Feb', 'Mar', 'Apr', 'May', 'Jun'])\n",
    "ax.grid()\n",
    "ax.legend()\n",
    "plt.tight_layout() \"\"\""
   ]
  },
  {
   "cell_type": "markdown",
   "metadata": {},
   "source": [
    "## To do\n",
    "* Sjekk om dimensjonene i rossby funksjonen gir mening. Det kan se ut som rekkefølgen skom kommer ut er litt rar.\n",
    "* Plot f eks (hvis det går an) gj.snitt rossby radius per måned i samme plot 2x2 subplot\n",
    "* Lag tidsserie av monthly mean"
   ]
  }
 ],
 "metadata": {
  "kernelspec": {
   "display_name": "Python [conda env:production-10-2022] *",
   "language": "python",
   "name": "conda-env-production-10-2022-py"
  },
  "language_info": {
   "codemirror_mode": {
    "name": "ipython",
    "version": 3
   },
   "file_extension": ".py",
   "mimetype": "text/x-python",
   "name": "python",
   "nbconvert_exporter": "python",
   "pygments_lexer": "ipython3",
   "version": "3.9.13"
  }
 },
 "nbformat": 4,
 "nbformat_minor": 5
}
