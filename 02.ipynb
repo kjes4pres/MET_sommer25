{
 "cells": [
  {
   "cell_type": "code",
   "execution_count": 1,
   "id": "451c4bb3",
   "metadata": {},
   "outputs": [],
   "source": [
    "%load_ext autoreload\n",
    "%autoreload 2\n",
    "\n",
    "import matplotlib.pyplot as plt\n",
    "import cartopy.crs as ccrs\n",
    "from cartopy.mpl.gridliner import LONGITUDE_FORMATTER, LATITUDE_FORMATTER\n",
    "\n",
    "from pre_process import *\n",
    "\n",
    "import warnings\n",
    "warnings.filterwarnings(\"ignore\")"
   ]
  },
  {
   "cell_type": "code",
   "execution_count": 2,
   "id": "29ceaa7c",
   "metadata": {},
   "outputs": [],
   "source": [
    "exp_02_avg, xgrid = open_experiment(turb=True, exp_number=2, num_of_days=27)\n",
    "ref_02_avg, xgrid = open_experiment(turb=False, exp_number=2, num_of_days=27)"
   ]
  },
  {
   "cell_type": "code",
   "execution_count": null,
   "id": "2719a50c",
   "metadata": {},
   "outputs": [],
   "source": []
  }
 ],
 "metadata": {
  "kernelspec": {
   "display_name": "Python [conda env:production-10-2022] *",
   "language": "python",
   "name": "conda-env-production-10-2022-py"
  },
  "language_info": {
   "codemirror_mode": {
    "name": "ipython",
    "version": 3
   },
   "file_extension": ".py",
   "mimetype": "text/x-python",
   "name": "python",
   "nbconvert_exporter": "python",
   "pygments_lexer": "ipython3",
   "version": "3.9.13"
  }
 },
 "nbformat": 4,
 "nbformat_minor": 5
}
