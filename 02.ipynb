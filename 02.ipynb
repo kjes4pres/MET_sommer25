{
 "cells": [
  {
   "cell_type": "code",
   "execution_count": 1,
   "id": "451c4bb3",
   "metadata": {},
   "outputs": [],
   "source": [
    "%load_ext autoreload\n",
    "%autoreload 2\n",
    "\n",
    "import dask.array as da\n",
    "\n",
    "from pre_process import *\n",
    "from plotting_funcs import *\n",
    "\n",
    "import warnings\n",
    "warnings.filterwarnings(\"ignore\")"
   ]
  },
  {
   "cell_type": "code",
   "execution_count": 2,
   "id": "29ceaa7c",
   "metadata": {},
   "outputs": [],
   "source": [
    "#exp_02_avg, xgrid = open_experiment(turb=True, exp_number=2, num_of_days=27)\n",
    "ref_02_avg, xgrid = open_experiment(turb=False, exp_number=2, num_of_days=27)"
   ]
  },
  {
   "cell_type": "code",
   "execution_count": 3,
   "id": "2719a50c",
   "metadata": {},
   "outputs": [],
   "source": [
    "sorvest_F = get_turbine_coords('/lustre/storeB/project/nwp/havvind/turbine_coordinates/windfarms_Sorvest_F.txt')"
   ]
  },
  {
   "cell_type": "code",
   "execution_count": 4,
   "id": "df72d3f2",
   "metadata": {},
   "outputs": [],
   "source": [
    "# Find coordinates of midpoint of Sørvest F\n",
    "target_lon = 5.0\n",
    "target_lat = 56.8\n",
    "\n",
    "# Indices of midpoint Sørvest F\n",
    "i_loc, j_loc = get_windpark_midpoint_indices(ref_02_avg, target_lon, target_lat)"
   ]
  },
  {
   "cell_type": "code",
   "execution_count": 5,
   "id": "8657b847",
   "metadata": {},
   "outputs": [],
   "source": [
    "# Computing internal Rossby radius\n",
    "R_02_ref = rossby_radius(ref_02_avg.f, ref_02_avg.rho, ref_02_avg.z_w, xgrid)"
   ]
  },
  {
   "cell_type": "code",
   "execution_count": null,
   "id": "629bee53",
   "metadata": {},
   "outputs": [
    {
     "ename": "",
     "evalue": "",
     "output_type": "error",
     "traceback": [
      "\u001b[1;31mThe Kernel crashed while executing code in the current cell or a previous cell. \n",
      "\u001b[1;31mPlease review the code in the cell(s) to identify a possible cause of the failure. \n",
      "\u001b[1;31mClick <a href='https://aka.ms/vscodeJupyterKernelCrash'>here</a> for more info. \n",
      "\u001b[1;31mView Jupyter <a href='command:jupyter.viewOutput'>log</a> for further details."
     ]
    }
   ],
   "source": [
    "R_02_ref = R_02_ref.chunk({'ocean_time': -1, 'eta_rho': 10, 'xi_rho': 10})"
   ]
  },
  {
   "cell_type": "code",
   "execution_count": 7,
   "id": "6c611f97",
   "metadata": {},
   "outputs": [
    {
     "ename": "",
     "evalue": "",
     "output_type": "error",
     "traceback": [
      "\u001b[1;31mCanceled future for execute_request message before replies were done"
     ]
    },
    {
     "ename": "",
     "evalue": "",
     "output_type": "error",
     "traceback": [
      "\u001b[1;31mCanceled future for execute_request message before replies were done. \n",
      "\u001b[1;31mView Jupyter <a href='command:jupyter.viewOutput'>log</a> for further details."
     ]
    }
   ],
   "source": [
    "fig, ax = plt.subplots()\n",
    "data_to_plot = R_02_ref.isel(eta_rho=i_loc, xi_rho=j_loc)\n",
    "data_to_plot.load()  # load triggers computation in Dask\n",
    "ax.plot(R_02_ref.ocean_time, data_to_plot)"
   ]
  },
  {
   "cell_type": "code",
   "execution_count": null,
   "id": "908b915b",
   "metadata": {},
   "outputs": [],
   "source": []
  }
 ],
 "metadata": {
  "kernelspec": {
   "display_name": "Python [conda env:production-10-2022] *",
   "language": "python",
   "name": "conda-env-production-10-2022-py"
  },
  "language_info": {
   "codemirror_mode": {
    "name": "ipython",
    "version": 3
   },
   "file_extension": ".py",
   "mimetype": "text/x-python",
   "name": "python",
   "nbconvert_exporter": "python",
   "pygments_lexer": "ipython3",
   "version": "3.9.13"
  }
 },
 "nbformat": 4,
 "nbformat_minor": 5
}
